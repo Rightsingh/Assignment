{
 "cells": [
  {
   "cell_type": "markdown",
   "id": "0c4544e6",
   "metadata": {},
   "source": [
    "Question No. 1"
   ]
  },
  {
   "cell_type": "code",
   "execution_count": 1,
   "id": "d2102d3b",
   "metadata": {},
   "outputs": [
    {
     "name": "stdout",
     "output_type": "stream",
     "text": [
      "John\n",
      "30\n",
      "Hello, my name is John and I'm 25 years old.\n",
      "Hello, my name is Alice and I'm 30 years old.\n"
     ]
    },
    {
     "data": {
      "text/plain": [
       "'In the above example, the \"Person\" class serves as a blueprint for creating person objects. It has attributes such \\nas \"name\" and \"age\" to store specific information about a person. The class also has a method called \"greet\" \\nwhich allows a person object to introduce themselves.\\n\\nWe create two person objects, \"person1\" and \"person2\", with different name and age values. We can access their attributes \\nusing dot notation, such as person1.name or person2.age. We can also call the \"greet\" method on these objects,\\nlike person1.greet() or person2.greet(), which will print out a personalized greeting based on the object\\'s attribute values.\\nEach object (person1 and person2) created from the Person class has its own set of attribute values (name and age) and can \\nperform actions (greet) defined by the class\\'s methods.'"
      ]
     },
     "execution_count": 1,
     "metadata": {},
     "output_type": "execute_result"
    }
   ],
   "source": [
    "'''In Python, a class is a blueprint or a template for creating objects. It defines the attributes (data) and behaviors \n",
    "(methods) that objects of that class will have. A class is like a blueprint that describes the common structure and \n",
    "behavior that objects of that class should possess.\n",
    "\n",
    "An object, on the other hand, is an instance of a class. It is a specific entity created from the class blueprint,\n",
    "with its own set of attribute values and the ability to perform actions defined by the class's methods.\n",
    "An object represents a specific instance of a class and can store and manipulate data.\n",
    "\n",
    "Let's illustrate this with an example of a class called \"Person\":'''\n",
    "\n",
    "\n",
    "class Person:\n",
    "    def __init__(self, name, age):\n",
    "        self.name = name\n",
    "        self.age = age\n",
    "\n",
    "    def greet(self):\n",
    "        print(f\"Hello, my name is {self.name} and I'm {self.age} years old.\")\n",
    "\n",
    "\n",
    "# Creating objects/instances of the Person class\n",
    "person1 = Person(\"John\", 25)\n",
    "person2 = Person(\"Alice\", 30)\n",
    "\n",
    "# Accessing attributes of objects\n",
    "print(person1.name)  # Output: John\n",
    "print(person2.age)  # Output: 30\n",
    "\n",
    "# Calling methods of objects\n",
    "person1.greet()  # Output: Hello, my name is John and I'm 25 years old.\n",
    "person2.greet()  # Output: Hello, my name is Alice and I'm 30 years old.\n",
    "\n",
    "\n",
    "'''In the above example, the \"Person\" class serves as a blueprint for creating person objects. It has attributes such \n",
    "as \"name\" and \"age\" to store specific information about a person. The class also has a method called \"greet\" \n",
    "which allows a person object to introduce themselves.\n",
    "\n",
    "We create two person objects, \"person1\" and \"person2\", with different name and age values. We can access their attributes \n",
    "using dot notation, such as person1.name or person2.age. We can also call the \"greet\" method on these objects,\n",
    "like person1.greet() or person2.greet(), which will print out a personalized greeting based on the object's attribute values.\n",
    "Each object (person1 and person2) created from the Person class has its own set of attribute values (name and age) and can \n",
    "perform actions (greet) defined by the class's methods.'''"
   ]
  },
  {
   "cell_type": "markdown",
   "id": "6b235ff5",
   "metadata": {},
   "source": [
    "Question No. 2"
   ]
  },
  {
   "cell_type": "markdown",
   "id": "6cc38460",
   "metadata": {},
   "source": [
    "The four pillars of object-oriented programming (OOP) are:\n",
    "\n",
    "Encapsulation: Encapsulation refers to the bundling of data and methods together within a class. It involves hiding the internal state and implementation details of an object and providing access to it through well-defined interfaces. Encapsulation helps in achieving data abstraction, data protection, and code modularity.\n",
    "\n",
    "Inheritance: Inheritance allows the creation of new classes based on existing classes. It enables the reuse of code and the creation of a hierarchical class structure. A subclass (or derived class) can inherit attributes and behaviors from a superclass (or base class), and it can also add its own unique attributes and behaviors. Inheritance promotes code reusability and supports the concept of specialization and generalization.\n",
    "\n",
    "Polymorphism: Polymorphism means the ability of objects to take on multiple forms or have multiple behaviors. In Python, polymorphism is achieved through method overriding and method overloading. Method overriding allows a subclass to provide its own implementation of a method defined in the superclass. Method overloading allows a class to have multiple methods with the same name but different parameters. Polymorphism enables objects of different classes to be treated interchangeably if they share a common interface or base class.\n",
    "\n",
    "Abstraction: Abstraction focuses on representing the essential features and behaviors of an object while hiding the unnecessary details. It allows the creation of abstract classes and interfaces that define a common structure or behavior for a group of related objects. Abstraction provides a level of indirection and helps in managing complexity by breaking down a system into smaller, more manageable parts. It allows developers to work with high-level concepts without worrying about the low-level implementation details.\n",
    "\n",
    "These four pillars of OOP (encapsulation, inheritance, polymorphism, and abstraction) provide a foundation for designing modular, reusable, and maintainable code by promoting code organization, flexibility, and code reuse."
   ]
  },
  {
   "cell_type": "markdown",
   "id": "ffafa0a3",
   "metadata": {},
   "source": [
    "Qustion No. 3"
   ]
  },
  {
   "cell_type": "code",
   "execution_count": 4,
   "id": "ae37ea55",
   "metadata": {},
   "outputs": [
    {
     "name": "stdout",
     "output_type": "stream",
     "text": [
      "John\n",
      "25\n",
      "Hello, my name is John and I'm 25 years old.\n"
     ]
    },
    {
     "data": {
      "text/plain": [
       "'In the above example, the Person class has an __init__() method that takes two parameters, name and age. Inside the \\n__init__() method, the values of name and age are assigned to the object\\'s attributes self.name and self.age, respectively.\\n\\nWhen we create an object person1 using Person(\"John\", 25), the __init__() method is automatically called, and the name \\nparameter is assigned to person1.name and the age parameter is assigned to person1.age.\\n\\nThe __init__() method ensures that each object of the Person class is initialized with a name and age, which makes it \\neasier to work with the object\\'s attributes throughout its lifecycle. It allows us to provide initial values to the object\\'s\\nattributes during object creation and ensures that the object starts in a valid state.'"
      ]
     },
     "execution_count": 4,
     "metadata": {},
     "output_type": "execute_result"
    }
   ],
   "source": [
    "'''The __init__() function is a special method in Python classes that is automatically called when an object is created from \n",
    "the class. It stands for \"initialize\" and is used to initialize the attributes of an object with default or user-specified\n",
    "values. This method is also known as the constructor.\n",
    "\n",
    "The primary purpose of the __init__() function is to set up the initial state of an object by assigning values to its \n",
    "attributes. It is often used to ensure that an object is created in a valid and consistent state.\n",
    "\n",
    "Here's an example to illustrate the usage of the __init__() function:'''\n",
    "\n",
    "class Person:\n",
    "    def __init__(self, name, age):\n",
    "        self.name = name\n",
    "        self.age = age\n",
    "\n",
    "    def introduce(self):\n",
    "        print(f\"Hello, my name is {self.name} and I'm {self.age} years old.\")\n",
    "\n",
    "\n",
    "# Creating an object/instance of the Person class\n",
    "person1 = Person(\"John\", 25)\n",
    "\n",
    "# Accessing attributes and calling methods of the object\n",
    "print(person1.name)  # Output: John\n",
    "print(person1.age)  # Output: 25\n",
    "person1.introduce()  # Output: Hello, my name is John and I'm 25 years old.\n",
    "\n",
    "'''In the above example, the Person class has an __init__() method that takes two parameters, name and age. Inside the \n",
    "__init__() method, the values of name and age are assigned to the object's attributes self.name and self.age, respectively.\n",
    "\n",
    "When we create an object person1 using Person(\"John\", 25), the __init__() method is automatically called, and the name \n",
    "parameter is assigned to person1.name and the age parameter is assigned to person1.age.\n",
    "\n",
    "The __init__() method ensures that each object of the Person class is initialized with a name and age, which makes it \n",
    "easier to work with the object's attributes throughout its lifecycle. It allows us to provide initial values to the object's\n",
    "attributes during object creation and ensures that the object starts in a valid state.'''\n"
   ]
  },
  {
   "cell_type": "markdown",
   "id": "6c727ea1",
   "metadata": {},
   "source": [
    "Question No. 4"
   ]
  },
  {
   "cell_type": "code",
   "execution_count": 5,
   "id": "50dcf617",
   "metadata": {},
   "outputs": [
    {
     "name": "stdout",
     "output_type": "stream",
     "text": [
      "This car is a Toyota Corolla made in 2022.\n"
     ]
    },
    {
     "data": {
      "text/plain": [
       "'In the above example, self is used to reference the object car1 within the get_details() method. When car1.get_details() \\nis called, the self parameter in get_details() automatically refers to the car1 object. Therefore, self.make, self.model, \\nand self.year refer to the make, model, and year attributes of car1.\\n\\nself is used to access the attributes and methods of the current object within the class definition. It ensures that \\neach instance of a class has its own set of attributes and methods, and enables us to work with multiple objects of \\nthe same class simultaneously without conflicts.'"
      ]
     },
     "execution_count": 5,
     "metadata": {},
     "output_type": "execute_result"
    }
   ],
   "source": [
    "'''In object-oriented programming (OOP), self is a reference variable that refers to the current instance of a class. \n",
    "It is used as a parameter in method definitions to access the attributes and methods of the object that is calling the \n",
    "method.\n",
    "\n",
    "When a method is called on an object, the object itself is automatically passed as the first argument to the method, and \n",
    "self is used to reference this object within the method. self is a convention in Python, but it can be any variable name \n",
    "as long as it is the first parameter of a method.\n",
    "\n",
    "Here's an example to illustrate the usage of self:'''\n",
    "class Car:\n",
    "    def __init__(self, make, model, year):\n",
    "        self.make = make\n",
    "        self.model = model\n",
    "        self.year = year\n",
    "\n",
    "    def get_details(self):\n",
    "        print(f\"This car is a {self.make} {self.model} made in {self.year}.\")\n",
    "\n",
    "\n",
    "car1 = Car(\"Toyota\", \"Corolla\", 2022)\n",
    "car1.get_details()  # Output: This car is a Toyota Corolla made in 2022.\n",
    "'''In the above example, self is used to reference the object car1 within the get_details() method. When car1.get_details() \n",
    "is called, the self parameter in get_details() automatically refers to the car1 object. Therefore, self.make, self.model, \n",
    "and self.year refer to the make, model, and year attributes of car1.\n",
    "\n",
    "self is used to access the attributes and methods of the current object within the class definition. It ensures that \n",
    "each instance of a class has its own set of attributes and methods, and enables us to work with multiple objects of \n",
    "the same class simultaneously without conflicts.'''"
   ]
  },
  {
   "cell_type": "markdown",
   "id": "110967df",
   "metadata": {},
   "source": [
    "Question No. 5"
   ]
  },
  {
   "cell_type": "code",
   "execution_count": 6,
   "id": "b063fc27",
   "metadata": {},
   "outputs": [
    {
     "name": "stdout",
     "output_type": "stream",
     "text": [
      "Toyota\n",
      "Driving the vehicle.\n",
      "Engine started.\n",
      "Woof!\n",
      "Flying high!\n",
      "Eating...\n",
      "Sleeping...\n",
      "Woof!\n"
     ]
    }
   ],
   "source": [
    "'''Inheritance is a fundamental concept in object-oriented programming (OOP) that allows the creation of new classes \n",
    "(derived classes or subclasses) based on existing classes (base classes or superclasses). It enables the derived \n",
    "class to inherit attributes and behaviors from the base class, promoting code reuse and creating a hierarchical \n",
    "relationship between classes.\n",
    "\n",
    "Python supports multiple types of inheritance:\n",
    "\n",
    "1. Single Inheritance: In single inheritance, a derived class inherits from a single base class. It allows the derived class\n",
    "to access all the attributes and methods of the base class.\n",
    "Example:'''\n",
    "class Vehicle:\n",
    "    def __init__(self, brand):\n",
    "        self.brand = brand\n",
    "\n",
    "    def drive(self):\n",
    "        print(\"Driving the vehicle.\")\n",
    "\n",
    "class Car(Vehicle):\n",
    "    def __init__(self, brand, model):\n",
    "        super().__init__(brand)\n",
    "        self.model = model\n",
    "\n",
    "    def start_engine(self):\n",
    "        print(\"Engine started.\")\n",
    "\n",
    "car = Car(\"Toyota\", \"Corolla\")\n",
    "print(car.brand)  # Output: Toyota\n",
    "car.drive()  # Output: Driving the vehicle.\n",
    "car.start_engine()  # Output: Engine started.\n",
    "\n",
    "'''2. Multiple Inheritance: Multiple inheritance allows a derived class to inherit attributes and behaviors from multiple \n",
    "base classes. It provides a way to combine features from different classes into a single class.'''\n",
    "class Dog:\n",
    "    def bark(self):\n",
    "        print(\"Woof!\")\n",
    "\n",
    "class Bird:\n",
    "    def fly(self):\n",
    "        print(\"Flying high!\")\n",
    "\n",
    "class FlyingDog(Dog, Bird):\n",
    "    pass\n",
    "\n",
    "flying_dog = FlyingDog()\n",
    "flying_dog.bark()  # Output: Woof!\n",
    "flying_dog.fly()  # Output: Flying high!\n",
    "\n",
    "'''Multilevel Inheritance: Multilevel inheritance involves inheriting from a derived class, creating a hierarchy of \n",
    "classes. Each derived class becomes the base class for the subsequent derived class.'''\n",
    "class Animal:\n",
    "    def eat(self):\n",
    "        print(\"Eating...\")\n",
    "\n",
    "class Mammal(Animal):\n",
    "    def sleep(self):\n",
    "        print(\"Sleeping...\")\n",
    "\n",
    "class Dog(Mammal):\n",
    "    def bark(self):\n",
    "        print(\"Woof!\")\n",
    "\n",
    "dog = Dog()\n",
    "dog.eat()  # Output: Eating...\n",
    "dog.sleep()  # Output: Sleeping...\n",
    "dog.bark()  # Output: Woof!"
   ]
  },
  {
   "cell_type": "code",
   "execution_count": null,
   "id": "63ba1d4f",
   "metadata": {},
   "outputs": [],
   "source": []
  }
 ],
 "metadata": {
  "kernelspec": {
   "display_name": "Python 3 (ipykernel)",
   "language": "python",
   "name": "python3"
  },
  "language_info": {
   "codemirror_mode": {
    "name": "ipython",
    "version": 3
   },
   "file_extension": ".py",
   "mimetype": "text/x-python",
   "name": "python",
   "nbconvert_exporter": "python",
   "pygments_lexer": "ipython3",
   "version": "3.11.1"
  }
 },
 "nbformat": 4,
 "nbformat_minor": 5
}
