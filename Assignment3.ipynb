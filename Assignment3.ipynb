{
 "cells": [
  {
   "cell_type": "markdown",
   "id": "9959246d",
   "metadata": {},
   "source": [
    "Question No. 1"
   ]
  },
  {
   "cell_type": "code",
   "execution_count": 2,
   "id": "61b77e81",
   "metadata": {},
   "outputs": [
    {
     "name": "stdout",
     "output_type": "stream",
     "text": [
      "[('Virat Kohli', 24936), ('Jack Kallis', 25534), ('Ricky Ponting', 27483), ('Sachin Tendulkar', 34357)]\n"
     ]
    }
   ],
   "source": [
    "subject_marks = [('Sachin Tendulkar', 34357), ('Ricky Ponting', 27483), ('Jack Kallis', 25534), ('Virat Kohli', 24936)]\n",
    "\n",
    "# Create a lambda function to extract the integer value from each tuple\n",
    "get_integer_value = lambda x: x[1]\n",
    "\n",
    "# Sort the list of tuples using the lambda function\n",
    "subject_marks.sort(key=get_integer_value)\n",
    "\n",
    "# Print the sorted list of tuples\n",
    "print(subject_marks)\n"
   ]
  },
  {
   "cell_type": "markdown",
   "id": "45868201",
   "metadata": {},
   "source": [
    "Question No. 2"
   ]
  },
  {
   "cell_type": "code",
   "execution_count": 3,
   "id": "2962586a",
   "metadata": {},
   "outputs": [
    {
     "data": {
      "text/plain": [
       "[1, 4, 9, 16, 25, 36, 49, 64, 81, 100]"
      ]
     },
     "execution_count": 3,
     "metadata": {},
     "output_type": "execute_result"
    }
   ],
   "source": [
    "l=[1, 2, 3, 4, 5, 6, 7, 8, 9, 10]\n",
    "list(map(lambda x:x**2,l))"
   ]
  },
  {
   "cell_type": "markdown",
   "id": "b3320d80",
   "metadata": {},
   "source": [
    "Question No. 3"
   ]
  },
  {
   "cell_type": "code",
   "execution_count": 4,
   "id": "67902402",
   "metadata": {},
   "outputs": [
    {
     "data": {
      "text/plain": [
       "['1', '2', '3', '4', '5', '6', '7', '8', '9', '10']"
      ]
     },
     "execution_count": 4,
     "metadata": {},
     "output_type": "execute_result"
    }
   ],
   "source": [
    "l=[1, 2, 3, 4, 5, 6, 7, 8, 9, 10]\n",
    "list(map(lambda x:str(x),l))"
   ]
  },
  {
   "cell_type": "markdown",
   "id": "d32bfe69",
   "metadata": {},
   "source": [
    "Quistion No. 4"
   ]
  },
  {
   "cell_type": "code",
   "execution_count": 5,
   "id": "17782188",
   "metadata": {},
   "outputs": [
    {
     "data": {
      "text/plain": [
       "15511210043330985984000000"
      ]
     },
     "execution_count": 5,
     "metadata": {},
     "output_type": "execute_result"
    }
   ],
   "source": [
    "from functools import reduce\n",
    "a=list(range(1,26))\n",
    "product=reduce(lambda x,y:x*y , a)\n",
    "product"
   ]
  },
  {
   "cell_type": "markdown",
   "id": "6d057ffa",
   "metadata": {},
   "source": [
    "Quistion No. 5"
   ]
  },
  {
   "cell_type": "code",
   "execution_count": 2,
   "id": "eb57bbed",
   "metadata": {},
   "outputs": [
    {
     "name": "stdout",
     "output_type": "stream",
     "text": [
      "[6, 60, 90, 120]\n"
     ]
    }
   ],
   "source": [
    "numbers = [2, 3, 6, 9, 27, 60, 90, 120, 55, 46]\n",
    "\n",
    "filtered_numbers = list(filter(lambda x: x % 2 == 0 and x % 3 == 0, numbers))\n",
    "\n",
    "print(filtered_numbers)\n"
   ]
  },
  {
   "cell_type": "markdown",
   "id": "bbde3eb2",
   "metadata": {},
   "source": [
    "Quistion No. "
   ]
  },
  {
   "cell_type": "code",
   "execution_count": 4,
   "id": "ac01de04",
   "metadata": {},
   "outputs": [
    {
     "name": "stdout",
     "output_type": "stream",
     "text": [
      "['php', 'aba', 'radar', 'level']\n"
     ]
    }
   ],
   "source": [
    "strings = ['python', 'php', 'aba', 'radar', 'level']\n",
    "\n",
    "palindromes = list(filter(lambda x: x == x[::-1], strings))\n",
    "\n",
    "print(palindromes)\n"
   ]
  },
  {
   "cell_type": "code",
   "execution_count": null,
   "id": "73bc3855",
   "metadata": {},
   "outputs": [],
   "source": []
  }
 ],
 "metadata": {
  "kernelspec": {
   "display_name": "Python 3 (ipykernel)",
   "language": "python",
   "name": "python3"
  },
  "language_info": {
   "codemirror_mode": {
    "name": "ipython",
    "version": 3
   },
   "file_extension": ".py",
   "mimetype": "text/x-python",
   "name": "python",
   "nbconvert_exporter": "python",
   "pygments_lexer": "ipython3",
   "version": "3.11.1"
  }
 },
 "nbformat": 4,
 "nbformat_minor": 5
}
