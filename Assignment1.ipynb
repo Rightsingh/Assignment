{
 "cells": [
  {
   "cell_type": "markdown",
   "id": "e50f7995",
   "metadata": {},
   "source": [
    "Question No. 1"
   ]
  },
  {
   "cell_type": "code",
   "execution_count": null,
   "id": "64a46403",
   "metadata": {},
   "outputs": [],
   "source": [
    "'''\n",
    "For loop\n",
    "\n",
    "A for loop is used when you need to iterate over a sequence of items.\n",
    "A sequence can be a list, a string, a range, or any other iterable object.\n",
    "The syntax for a for loop is as follows:'''\n",
    "\n",
    "for item in sequence:\n",
    "  # Do something with item\n",
    "\n",
    "#example:\n",
    "\n",
    "\tfor i in range(10):\n",
    "\t\tprint(i)\n",
    "\n",
    "'''\n",
    "While loop\n",
    "\n",
    "A while loop is used when you need to execute a block of code repeatedly until a certain condition is met.\n",
    "The syntax for a while loop is as follows:'''\n",
    "while condition:\n",
    "  # Do something\n",
    "\n",
    "#example:\n",
    "\ti = 0\n",
    "\twhile True:\n",
    "  \t\tprint(i)\n",
    "  \t\ti += 1\n",
    "  \t\tuser_input = input(\"Enter a number: \")\n",
    "  \t\tif user_input < 0:\n",
    "    \t\t\tbreak"
   ]
  },
  {
   "cell_type": "markdown",
   "id": "1f8ddeb7",
   "metadata": {},
   "source": [
    "Question No. 2"
   ]
  },
  {
   "cell_type": "code",
   "execution_count": 9,
   "id": "bdafe68d",
   "metadata": {},
   "outputs": [
    {
     "name": "stdout",
     "output_type": "stream",
     "text": [
      "The sum of the first 10 natural numbers is: 55\n",
      "The product of the first 10 natural numbers is: 3628800\n"
     ]
    }
   ],
   "source": [
    "# Sum of the first 10 natural numbers\n",
    "\n",
    "sum = 0\n",
    "for i in range(1, 11):\n",
    "  sum += i\n",
    "\n",
    "print(\"The sum of the first 10 natural numbers is:\", sum)\n",
    "\n",
    "# Product of the first 10 natural numbers\n",
    "\n",
    "product = 1\n",
    "for i in range(1, 11):\n",
    "  product *= i\n",
    "\n",
    "print(\"The product of the first 10 natural numbers is:\", product)\n"
   ]
  },
  {
   "cell_type": "markdown",
   "id": "186be4d1",
   "metadata": {},
   "source": [
    "Question No. 3"
   ]
  },
  {
   "cell_type": "code",
   "execution_count": 11,
   "id": "d7c1ead1",
   "metadata": {},
   "outputs": [
    {
     "name": "stdout",
     "output_type": "stream",
     "text": [
      "Enter the number of units consumed: 300\n",
      "The electricity bill is: 2050.0\n"
     ]
    }
   ],
   "source": [
    "def electricity_bill(units_consumed):\n",
    "  \"\"\"\n",
    "  Calculates the electricity bill for a household.\n",
    "\n",
    "  Args:\n",
    "    units_consumed: The number of units consumed.\n",
    "\n",
    "  Returns:\n",
    "    The electricity bill.\n",
    "  \"\"\"\n",
    "\n",
    "  bill = 0\n",
    "\n",
    "  # First 100 units\n",
    "  if units_consumed <= 100:\n",
    "    bill += units_consumed * 4.5\n",
    "\n",
    "  # Next 100 units\n",
    "  elif units_consumed > 100 and units_consumed <= 200:\n",
    "    bill += 100 * 4.5 + (units_consumed - 100) * 6\n",
    "\n",
    "  # Next 100 units\n",
    "  elif units_consumed > 200 and units_consumed <= 300:\n",
    "    bill += 100 * 4.5 + 100 * 6 + (units_consumed - 200) * 10\n",
    "\n",
    "  # Above 300 units\n",
    "  else:\n",
    "    bill += 100 * 4.5 + 100 * 6 + 100 * 10 + (units_consumed - 300) * 20\n",
    "\n",
    "  return bill\n",
    "\n",
    "\n",
    "if __name__ == \"__main__\":\n",
    "  # Get the number of units consumed\n",
    "  units_consumed = int(input(\"Enter the number of units consumed: \"))\n",
    "\n",
    "  # Calculate the bill\n",
    "  bill = electricity_bill(units_consumed)\n",
    "\n",
    "  # Print the bill\n",
    "  print(\"The electricity bill is:\", bill)\n"
   ]
  },
  {
   "cell_type": "markdown",
   "id": "881a9e47",
   "metadata": {},
   "source": [
    "Question No. 4"
   ]
  },
  {
   "cell_type": "code",
   "execution_count": 12,
   "id": "d75e4a91",
   "metadata": {},
   "outputs": [
    {
     "name": "stdout",
     "output_type": "stream",
     "text": [
      "[8, 64, 125, 216, 512, 1000, 1728, 2744, 3375, 4096, 5832, 8000, 10648, 13824, 15625, 17576, 21952, 27000, 32768, 39304, 42875, 46656, 54872, 64000, 74088, 85184, 91125, 97336, 110592, 125000, 140608, 157464, 166375, 175616, 195112, 216000, 238328, 262144, 274625, 287496, 314432, 343000, 373248, 405224, 421875, 438976, 474552, 512000, 551368, 592704, 614125, 636056, 681472, 729000, 778688, 830584, 857375, 884736, 941192, 1000000]\n"
     ]
    }
   ],
   "source": [
    "# Create a list of numbers from 1 to 100\n",
    "numbers = list(range(1, 101))\n",
    "\n",
    "# Calculate the cube of each number\n",
    "cubes = [number**3 for number in numbers]\n",
    "\n",
    "# Create a list of numbers whose cubes are divisible by 4 or 5\n",
    "divisible_numbers = []\n",
    "for cube in cubes:\n",
    "  if cube % 4 == 0 or cube % 5 == 0:\n",
    "    divisible_numbers.append(cube)\n",
    "\n",
    "# Print the list of divisible numbers\n",
    "print(divisible_numbers)"
   ]
  },
  {
   "cell_type": "markdown",
   "id": "8d28075d",
   "metadata": {},
   "source": [
    "Question No. 5"
   ]
  },
  {
   "cell_type": "code",
   "execution_count": 13,
   "id": "6223dbd0",
   "metadata": {},
   "outputs": [
    {
     "name": "stdout",
     "output_type": "stream",
     "text": [
      "The number of vowels in the string is: 11\n"
     ]
    }
   ],
   "source": [
    "# Define the string\n",
    "string = \"I want to become a data scientist\"\n",
    "\n",
    "# Create a list of vowels\n",
    "vowels = ['a', 'e', 'i', 'o', 'u']\n",
    "\n",
    "# Create a list of filtered vowels\n",
    "filtered_vowels = []\n",
    "for char in string:\n",
    "  if char in vowels:\n",
    "    filtered_vowels.append(char)\n",
    "\n",
    "# Count the number of vowels\n",
    "vowel_count = len(filtered_vowels)\n",
    "\n",
    "# Print the number of vowels\n",
    "print(\"The number of vowels in the string is:\", vowel_count)"
   ]
  },
  {
   "cell_type": "code",
   "execution_count": null,
   "id": "ca4ce95e",
   "metadata": {},
   "outputs": [],
   "source": []
  }
 ],
 "metadata": {
  "kernelspec": {
   "display_name": "Python 3 (ipykernel)",
   "language": "python",
   "name": "python3"
  },
  "language_info": {
   "codemirror_mode": {
    "name": "ipython",
    "version": 3
   },
   "file_extension": ".py",
   "mimetype": "text/x-python",
   "name": "python",
   "nbconvert_exporter": "python",
   "pygments_lexer": "ipython3",
   "version": "3.11.1"
  }
 },
 "nbformat": 4,
 "nbformat_minor": 5
}
