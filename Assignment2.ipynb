{
 "cells": [
  {
   "cell_type": "markdown",
   "id": "df1adffd",
   "metadata": {},
   "source": [
    "Question No. 1"
   ]
  },
  {
   "cell_type": "code",
   "execution_count": 2,
   "id": "6f8eb838",
   "metadata": {},
   "outputs": [
    {
     "name": "stdout",
     "output_type": "stream",
     "text": [
      "[1, 3, 5, 7, 9, 11, 13, 15, 17, 19, 21, 23, 25]\n"
     ]
    }
   ],
   "source": [
    "#The keyword used to create a function in Python is def.\n",
    "\n",
    "\n",
    "def odd_numbers(n):\n",
    "  \"\"\"\n",
    "  Returns a list of odd numbers in the range of 1 to n.\n",
    "\n",
    "  Args:\n",
    "    n: The upper bound of the range.\n",
    "\n",
    "  Returns:\n",
    "    A list of odd numbers.\n",
    "  \"\"\"\n",
    "\n",
    "  odd_numbers = []\n",
    "  for i in range(1, n + 1):\n",
    "    if i % 2 == 1:\n",
    "      odd_numbers.append(i)\n",
    "\n",
    "  return odd_numbers\n",
    "\n",
    "odd_numbers = odd_numbers(25)\n",
    "\n",
    "print(odd_numbers)\n"
   ]
  },
  {
   "cell_type": "markdown",
   "id": "b6d5d952",
   "metadata": {},
   "source": [
    "Question No. 2"
   ]
  },
  {
   "cell_type": "code",
   "execution_count": null,
   "id": "4cfdaddd",
   "metadata": {},
   "outputs": [],
   "source": [
    "'''The *args and **kwargs arguments are used in Python functions to allow the function to accept an arbitrary number of arguments. *args is used to accept a variable number of positional arguments, while **kwargs is used to accept a variable number of keyword arguments.\n",
    "\n",
    "Here is an example of a function that uses *args:'''\n",
    "\n",
    "def print_args(*args):\n",
    "  for arg in args:\n",
    "    print(arg)\n",
    "\n",
    "'''Here is an example of how to use the function:'''\n",
    "\n",
    "print_args(1, 2, 3, 4, 5)\n",
    "Use code with caution. Learn more\n",
    "Here is the output of the program:\n",
    "\n",
    "Code snippet\n",
    "1\n",
    "2\n",
    "3\n",
    "4\n",
    "5\n",
    "Use code with caution. Learn more\n",
    "Here is an example of a function that uses **kwargs:\n",
    "\n",
    "Python\n",
    "def print_kwargs(**kwargs):\n",
    "  for key, value in kwargs.items():\n",
    "    print(key, value)\n",
    "Use code with caution. Learn more\n",
    "Here is an example of how to use the function:\n",
    "\n",
    "Python\n",
    "print_kwargs(name=\"Bard\", age=25, location=\"Mountain View\")\n",
    "Use code with caution. Learn more\n",
    "Here is the output of the program:\n",
    "\n",
    "Code snippet\n",
    "name Bard\n",
    "age 25\n",
    "location Mountain View\n",
    "Use code with caution. Learn more\n",
    "*args and **kwargs can be used together to allow a function to accept an arbitrary number of positional and keyword arguments.\n",
    "\n",
    "Here is an example of a function that uses both *args and **kwargs:\n",
    "\n",
    "Python\n",
    "def print_all(args, **kwargs):\n",
    "  for arg in args:\n",
    "    print(arg)\n",
    "\n",
    "  for key, value in kwargs.items():\n",
    "    print(key, value)\n",
    "Use code with caution. Learn more\n",
    "Here is an example of how to use the function:\n",
    "\n",
    "Python\n",
    "print_all(1, 2, 3, 4, 5, name=\"Bard\", age=25, location=\"Mountain View\")\n",
    "Use code with caution. Learn more\n",
    "Here is the output of the program:\n",
    "\n",
    "Code snippet\n",
    "1\n",
    "2\n",
    "3\n",
    "4\n",
    "5\n",
    "name Bard\n",
    "age 25\n",
    "location Mountain View\n"
   ]
  },
  {
   "cell_type": "markdown",
   "id": "a2890438",
   "metadata": {},
   "source": [
    "Question No. 3"
   ]
  },
  {
   "cell_type": "code",
   "execution_count": 1,
   "id": "75da0921",
   "metadata": {},
   "outputs": [
    {
     "name": "stdout",
     "output_type": "stream",
     "text": [
      "2\n",
      "4\n",
      "6\n",
      "8\n",
      "10\n"
     ]
    }
   ],
   "source": [
    "\n",
    "'''An iterator in Python is an object that can be used to iterate over a sequence of data.\n",
    "Iterators are implemented using the iterator protocol, which consists of the following two methods:'''\n",
    "\n",
    "list_of_numbers = [2, 4, 6, 8, 10, 12, 14, 16, 18, 20]\n",
    "\n",
    "# Create an iterator object from the list.\n",
    "iterator = iter(list_of_numbers)\n",
    "\n",
    "# Print the first five elements of the list.\n",
    "for i in range(5):\n",
    "    print(next(iterator))\n"
   ]
  },
  {
   "cell_type": "markdown",
   "id": "0f4d9b30",
   "metadata": {},
   "source": [
    "Question No. 4"
   ]
  },
  {
   "cell_type": "code",
   "execution_count": 3,
   "id": "b5e7f897",
   "metadata": {},
   "outputs": [
    {
     "name": "stdout",
     "output_type": "stream",
     "text": [
      "0\n",
      "1\n",
      "2\n",
      "3\n",
      "4\n",
      "5\n",
      "6\n",
      "7\n",
      "8\n",
      "9\n"
     ]
    }
   ],
   "source": [
    "'''In Python, a generator function is a special type of function that allows you to generate a sequence of values on-the-fly,\n",
    "rather than computing them all at once and storing them in memory.\n",
    "This can be useful when working with large datasets or when you don't know the size of the output in advance.\n",
    "\n",
    "The yield keyword is used in generator functions to specify the values that should be generated.\n",
    "When a generator function is called, it returns a generator object, which can be iterated over using a for loop or other\n",
    "iterator methods.\n",
    "Each time the yield keyword is encountered, the function temporarily suspends execution and returns the current value to the\n",
    "caller, before resuming execution from where it left off on the next iteration.'''\n",
    "\n",
    "def generate_numbers():\n",
    "    for i in range(10):\n",
    "        yield i\n",
    "for number in generate_numbers():\n",
    "    print(number)"
   ]
  },
  {
   "cell_type": "markdown",
   "id": "98542eca",
   "metadata": {},
   "source": [
    "Question NO. 5"
   ]
  },
  {
   "cell_type": "code",
   "execution_count": 14,
   "id": "82cd4cdb",
   "metadata": {},
   "outputs": [
    {
     "name": "stdout",
     "output_type": "stream",
     "text": [
      "2\n",
      "3\n",
      "5\n",
      "7\n",
      "11\n",
      "13\n",
      "17\n",
      "19\n",
      "23\n",
      "29\n",
      "31\n",
      "37\n",
      "41\n",
      "43\n",
      "47\n",
      "53\n",
      "59\n",
      "61\n",
      "67\n",
      "71\n"
     ]
    }
   ],
   "source": [
    "def prime_generator():\n",
    "    primes_list = []\n",
    "    n = 2\n",
    "    while n < 1000:\n",
    "        is_prime = True\n",
    "        for p in primes_list:\n",
    "            if n % p == 0:\n",
    "                is_prime = False\n",
    "                break\n",
    "        if is_prime:\n",
    "            primes_list.append(n)\n",
    "            yield n\n",
    "        n += 1\n",
    "\n",
    "# Print the first 20 prime numbers\n",
    "prime_gen = prime_generator()\n",
    "for _ in range(20):\n",
    "    print(next(prime_gen))\n"
   ]
  },
  {
   "cell_type": "markdown",
   "id": "9777d4af",
   "metadata": {},
   "source": [
    "Question NO. 6"
   ]
  },
  {
   "cell_type": "code",
   "execution_count": 15,
   "id": "f8197d5a",
   "metadata": {},
   "outputs": [
    {
     "name": "stdout",
     "output_type": "stream",
     "text": [
      "0\n",
      "1\n",
      "1\n",
      "2\n",
      "3\n",
      "5\n",
      "8\n",
      "13\n",
      "21\n",
      "34\n"
     ]
    }
   ],
   "source": [
    "n = 0\n",
    "a = 0\n",
    "b = 1\n",
    "\n",
    "while n < 10:\n",
    "    print(a)\n",
    "    \n",
    "    a,b=b,a+b\n",
    "    n += 1\n"
   ]
  },
  {
   "cell_type": "markdown",
   "id": "8d2ba236",
   "metadata": {},
   "source": [
    "Question NO. 7"
   ]
  },
  {
   "cell_type": "code",
   "execution_count": 3,
   "id": "09cca281",
   "metadata": {},
   "outputs": [
    {
     "data": {
      "text/plain": [
       "['p', 'w', 's', 'k', 'i', 'l', 'l', 's']"
      ]
     },
     "execution_count": 3,
     "metadata": {},
     "output_type": "execute_result"
    }
   ],
   "source": [
    "letters = [letter for letter in 'pwskills']\n",
    "letters"
   ]
  },
  {
   "cell_type": "markdown",
   "id": "846c66f9",
   "metadata": {},
   "source": [
    "Question NO. 8"
   ]
  },
  {
   "cell_type": "code",
   "execution_count": 11,
   "id": "69444e3d",
   "metadata": {},
   "outputs": [
    {
     "name": "stdout",
     "output_type": "stream",
     "text": [
      "Enter a number: 123454321\n",
      "123454321 is a palindrome.\n"
     ]
    }
   ],
   "source": [
    "def is_palindrome(number):\n",
    "    original_number = number\n",
    "    reverse_number = 0\n",
    "\n",
    "    while number > 0:\n",
    "        digit = number % 10\n",
    "        reverse_number = (reverse_number * 10) + digit\n",
    "        number = number // 10\n",
    "\n",
    "    if original_number == reverse_number:\n",
    "        return True\n",
    "    else:\n",
    "        return False\n",
    "\n",
    "# Test the function\n",
    "num = int(input(\"Enter a number: \"))\n",
    "if is_palindrome(num):\n",
    "    print(num, \"is a palindrome.\")\n",
    "else:\n",
    "    print(num, \"is not a palindrome.\")"
   ]
  },
  {
   "cell_type": "markdown",
   "id": "685284d1",
   "metadata": {},
   "source": [
    "Question NO. 9"
   ]
  },
  {
   "cell_type": "code",
   "execution_count": 12,
   "id": "20bd3494",
   "metadata": {},
   "outputs": [
    {
     "name": "stdout",
     "output_type": "stream",
     "text": [
      "1\n",
      "3\n",
      "5\n",
      "7\n",
      "9\n",
      "11\n",
      "13\n",
      "15\n",
      "17\n",
      "19\n",
      "21\n",
      "23\n",
      "25\n",
      "27\n",
      "29\n",
      "31\n",
      "33\n",
      "35\n",
      "37\n",
      "39\n",
      "41\n",
      "43\n",
      "45\n",
      "47\n",
      "49\n",
      "51\n",
      "53\n",
      "55\n",
      "57\n",
      "59\n",
      "61\n",
      "63\n",
      "65\n",
      "67\n",
      "69\n",
      "71\n",
      "73\n",
      "75\n",
      "77\n",
      "79\n",
      "81\n",
      "83\n",
      "85\n",
      "87\n",
      "89\n",
      "91\n",
      "93\n",
      "95\n",
      "97\n",
      "99\n"
     ]
    }
   ],
   "source": [
    "odd_numbers = [x for x in range(1, 101) if x % 2 != 0]\n",
    "\n",
    "for number in odd_numbers:\n",
    "  print(number)\n"
   ]
  },
  {
   "cell_type": "code",
   "execution_count": null,
   "id": "6b7088e1",
   "metadata": {},
   "outputs": [],
   "source": []
  }
 ],
 "metadata": {
  "kernelspec": {
   "display_name": "Python 3 (ipykernel)",
   "language": "python",
   "name": "python3"
  },
  "language_info": {
   "codemirror_mode": {
    "name": "ipython",
    "version": 3
   },
   "file_extension": ".py",
   "mimetype": "text/x-python",
   "name": "python",
   "nbconvert_exporter": "python",
   "pygments_lexer": "ipython3",
   "version": "3.11.1"
  }
 },
 "nbformat": 4,
 "nbformat_minor": 5
}
